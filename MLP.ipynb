{
  "cells": [
    {
      "cell_type": "code",
      "execution_count": 15,
      "metadata": {
        "id": "3lCwbxFKERLJ"
      },
      "outputs": [],
      "source": [
        "#Import the necessary libraries\n",
        "import h5py\n",
        "import numpy as np\n",
        "import math\n",
        "import json"
      ]
    },
    {
      "cell_type": "code",
      "execution_count": 16,
      "metadata": {
        "id": "pFaNUeERfw9M"
      },
      "outputs": [],
      "source": [
        "#Load the hd5 files\n",
        "test_data_loc = \"mnist_testdata.hdf5\"\n",
        "network_params_loc = \"mnist_network_params.hdf5\""
      ]
    },
    {
      "cell_type": "code",
      "execution_count": 17,
      "metadata": {
        "id": "v6eq8VaNgFBq"
      },
      "outputs": [],
      "source": [
        "#Read hd5 file\n",
        "test_data_file = h5py.File(test_data_loc, \"r\")\n",
        "network_params_file = h5py.File(network_params_loc, \"r\")"
      ]
    },
    {
      "cell_type": "code",
      "execution_count": 18,
      "metadata": {
        "id": "D2q6CCgFhJ5C"
      },
      "outputs": [],
      "source": [
        "#Load data from the hd5 files\n",
        "test_X = test_data_file[\"xdata\"][:]\n",
        "test_Y = test_data_file[\"ydata\"][:]\n",
        "W1 = network_params_file[\"W1\"][:]\n",
        "W2 = network_params_file[\"W2\"][:]\n",
        "W3 = network_params_file[\"W3\"][:]\n",
        "b1 = network_params_file[\"b1\"][:]\n",
        "b2 = network_params_file[\"b2\"][:]\n",
        "b3 = network_params_file[\"b3\"][:]"
      ]
    },
    {
      "cell_type": "code",
      "execution_count": 19,
      "metadata": {
        "id": "ZC-RHB_w4QdS"
      },
      "outputs": [],
      "source": [
        "#Define the softmax function\n",
        "def softmax(X):\n",
        "  summation = sum([math.exp(i) for i in X[0]])\n",
        "  output = np.array([math.exp(i)/summation for i in X[0]])\n",
        "  return output"
      ]
    },
    {
      "cell_type": "code",
      "execution_count": 20,
      "metadata": {
        "id": "x8pJqkA_kKlS"
      },
      "outputs": [],
      "source": [
        "#Define the ReLU function\n",
        "def ReLU(X):\n",
        "  y = np.array([max(i,0) for i in X[0]])\n",
        "  return y"
      ]
    },
    {
      "cell_type": "code",
      "execution_count": 21,
      "metadata": {
        "id": "XAjk-RTDshLd"
      },
      "outputs": [],
      "source": [
        "#Function to get output from Layer 1\n",
        "def HiddenLayer1(X,W,b):\n",
        "  n_samples, n_features = X.shape\n",
        "  output = np.empty((n_samples,200))\n",
        "  bias = b.reshape((1,200))\n",
        "  for i in range(n_samples):\n",
        "    x = X[i].reshape((1,n_features))\n",
        "    a = np.dot(x,W.T) + bias\n",
        "    output[i] = ReLU(a)\n",
        "  return output"
      ]
    },
    {
      "cell_type": "code",
      "execution_count": 22,
      "metadata": {
        "id": "obgkESwwyB8w"
      },
      "outputs": [],
      "source": [
        "#Function to get output from Layer 2\n",
        "def HiddenLayer2(X,W,b):\n",
        "  n_samples, n_features = X.shape\n",
        "  output = np.empty((n_samples,100))\n",
        "  bias = b.reshape((1,100))\n",
        "  for i in range(n_samples):\n",
        "    x = X[i].reshape((1,n_features))\n",
        "    a = np.dot(x,W.T) + bias\n",
        "    output[i] = ReLU(a)\n",
        "  return output"
      ]
    },
    {
      "cell_type": "code",
      "execution_count": 23,
      "metadata": {
        "id": "1w9NU0AazN1h"
      },
      "outputs": [],
      "source": [
        "#Function to get output from Final Layer\n",
        "def OutputLayer(X,W,b):\n",
        "  n_samples, n_features = X.shape\n",
        "  output = np.empty((n_samples,10))\n",
        "  bias = b.reshape((1,10))\n",
        "  for i in range(n_samples):\n",
        "    x = X[i].reshape((1,100))\n",
        "    a = np.dot(x,W.T) + bias\n",
        "    output[i] = softmax(a)\n",
        "  return output"
      ]
    },
    {
      "cell_type": "code",
      "execution_count": 24,
      "metadata": {
        "id": "F83KQUQh2v4n"
      },
      "outputs": [],
      "source": [
        "#Function to calculate accuracy\n",
        "def accuracy(Y,Y_predicted):\n",
        "  acc = 0\n",
        "  for i in range(10000):\n",
        "    classifiend_value = np.argmax(Y_predicted[i])\n",
        "    actual_value = np.argmax(Y[i])\n",
        "    if(classifiend_value == actual_value):\n",
        "      acc+=1\n",
        "  return acc"
      ]
    },
    {
      "cell_type": "code",
      "execution_count": 25,
      "metadata": {
        "id": "qVAp3KtHsMiO"
      },
      "outputs": [],
      "source": [
        "#Implementing the Multilayer Perceptron Neural Netwrok\n",
        "def MLP_NN(X,W1,b1,W2,b2,W3,b3):\n",
        "  output_HL1 = HiddenLayer1(X , W1, b1)\n",
        "  output_HL2 = HiddenLayer2(output_HL1, W2, b2)\n",
        "  output = OutputLayer(output_HL2, W3, b3)\n",
        "  return output"
      ]
    },
    {
      "cell_type": "code",
      "execution_count": 26,
      "metadata": {
        "colab": {
          "base_uri": "https://localhost:8080/"
        },
        "id": "oXXnkVq-smGr",
        "outputId": "92d629bd-944c-4b29-f2d5-9e027a8079f4"
      },
      "outputs": [
        {
          "data": {
            "text/plain": [
              "9790"
            ]
          },
          "execution_count": 26,
          "metadata": {},
          "output_type": "execute_result"
        }
      ],
      "source": [
        "#Calling the MLP Neural Network and calculating the accuracy \n",
        "output = MLP_NN(test_X,W1,b1,W2,b2,W3,b3)\n",
        "acc = accuracy(test_Y, output)\n",
        "acc"
      ]
    },
    {
      "cell_type": "code",
      "execution_count": 28,
      "metadata": {
        "id": "joruaJHrn43c"
      },
      "outputs": [],
      "source": [
        "#Writing the data to a JSON file\n",
        "data = []\n",
        "for i in range(10000):\n",
        "  ind = i\n",
        "  activations = [float(k) for k in output[i]]\n",
        "  classifiend_value = np.argmax(output[i])\n",
        "  data.append({\"index\":int(i),  \"activations\":activations,\"classification\":int(classifiend_value)})\n",
        "data\n",
        "with open(\"result.json\", \"w\") as f: \n",
        "  f.write(json.dumps(data))"
      ]
    }
  ],
  "metadata": {
    "colab": {
      "provenance": []
    },
    "kernelspec": {
      "display_name": "Python 3.10.1 64-bit",
      "language": "python",
      "name": "python3"
    },
    "language_info": {
      "codemirror_mode": {
        "name": "ipython",
        "version": 3
      },
      "file_extension": ".py",
      "mimetype": "text/x-python",
      "name": "python",
      "nbconvert_exporter": "python",
      "pygments_lexer": "ipython3",
      "version": "3.10.1"
    },
    "vscode": {
      "interpreter": {
        "hash": "369f2c481f4da34e4445cda3fffd2e751bd1c4d706f27375911949ba6bb62e1c"
      }
    }
  },
  "nbformat": 4,
  "nbformat_minor": 0
}
